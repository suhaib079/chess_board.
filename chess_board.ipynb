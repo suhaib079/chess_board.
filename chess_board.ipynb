{
 "metadata": {
  "language_info": {
   "codemirror_mode": {
    "name": "ipython",
    "version": 3
   },
   "file_extension": ".py",
   "mimetype": "text/x-python",
   "name": "python",
   "nbconvert_exporter": "python",
   "pygments_lexer": "ipython3",
   "version": 3
  },
  "orig_nbformat": 4
 },
 "nbformat": 4,
 "nbformat_minor": 2,
 "cells": [
  {
   "cell_type": "code",
   "execution_count": null,
   "metadata": {},
   "outputs": [
    {
     "output_type": "error",
     "ename": "Error",
     "evalue": "IPyKernel not installed into interpreter Python 3.9.5 64-bit:/home/linuxbrew/.linuxbrew/bin/python3",
     "traceback": [
      "Error: IPyKernel not installed into interpreter Python 3.9.5 64-bit:/home/linuxbrew/.linuxbrew/bin/python3",
      "at w.handleKernelDependencyResponse (/home/suhaib/.vscode-server/extensions/ms-toolsai.jupyter-2021.6.999406279/out/client/extension.js:90:244702)",
      "at w.installMissingDependencies (/home/suhaib/.vscode-server/extensions/ms-toolsai.jupyter-2021.6.999406279/out/client/extension.js:90:244075)"
     ]
    }
   ],
   "source": []
  }
 ]
}