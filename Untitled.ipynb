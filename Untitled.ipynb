{
 "cells": [
  {
   "cell_type": "code",
   "execution_count": 1,
   "id": "977cd0af-8919-494a-9fb0-32518f5fd71f",
   "metadata": {},
   "outputs": [
    {
     "name": "stdout",
     "output_type": "stream",
     "text": [
      "hi\n"
     ]
    }
   ],
   "source": [
    "print('hi')"
   ]
  },
  {
   "cell_type": "code",
   "execution_count": 48,
   "id": "5a91d3cc-a32e-49a9-894f-02e40423c1b5",
   "metadata": {},
   "outputs": [
    {
     "name": "stdout",
     "output_type": "stream",
     "text": [
      "True\n",
      "test complete\n"
     ]
    },
    {
     "data": {
      "image/png": "[encoded data removed]",
      "text/plain": [
       "<Figure size 432x288 with 1 Axes>"
      ]
     },
     "metadata": {
      "needs_background": "light"
     },
     "output_type": "display_data"
    }
   ],
   "source": [
    "import numpy as np\n",
    "import matplotlib.pyplot as plt\n",
    "\n",
    "class ChessBoard:\n",
    "    black=(0,0,0)\n",
    "    white=(1,1,1) \n",
    "    blue=(0,1,1)                          \n",
    "    red = (1,.2,0)\n",
    "    \n",
    "    \n",
    "    def __init__(self):\n",
    "        \n",
    "        self.grid = np.zeros([8,8,3])\n",
    "        \n",
    "        for i in range(8):\n",
    "            for j in range(8):                                       # color boreder with white insted of black\n",
    "                if (i%2==0 and j%2==0) or (i%2==1 and j%2==1):\n",
    "                    self.grid[i,j] = ChessBoard.white\n",
    "    \n",
    "          \n",
    "    def render(self):  # to render border and color when called \n",
    "        \n",
    "        plt.imshow(self.grid)\n",
    "        \n",
    "    def add_blue(self,r,c):   # render a blue queen at the give cordinates\n",
    "        \n",
    "        self.grid[r,c] = ChessBoard.blue\n",
    "        self.render()\n",
    "        \n",
    "    def add_red(self,r,c):   # render a red queen at the give cordinates\n",
    "        \n",
    "        self.grid[r,c] = ChessBoard.red\n",
    "        self.render()    \n",
    "        \n",
    "    def check_if_under_attack(self,red_x,red_y,blue_x,blue_y):\n",
    "        \"\"\"\n",
    "        This method is to check if a given coordinates of a blue and red queen will attack each other\n",
    "        \"\"\"\n",
    "        \n",
    "\n",
    "        if red_x == blue_x: \n",
    "            return True\n",
    "        elif red_y == blue_y:\n",
    "            return True\n",
    "        elif abs(red_x - red_y) == abs(blue_x - blue_y):\n",
    "            return True\n",
    "        else: \n",
    "            return False\n",
    "\n",
    "        \n",
    "board = ChessBoard()\n",
    "board.render()\n",
    "board.add_blue(0,3)\n",
    "board.add_red(7,3)\n",
    "board.add_blue(4,0)\n",
    "board.add_red(4,7)\n",
    "board.add_blue(7,0)\n",
    "board.add_red(0,7)\n",
    "print(board.check_if_under_attack(3,5,4,6))\n",
    "assert board.check_if_under_attack(3,5,4,6) == True #Diagonal check\n",
    "assert board.check_if_under_attack(4,5,4,6) == True #Horizontal check\n",
    "assert board.check_if_under_attack(3,6,4,6) == True # Vertical check\n",
    "assert board.check_if_under_attack(0,0,4,6) == False #Not Under Attack \n",
    " \n",
    "\n",
    "print('test complete')\n",
    "    \n",
    "    \n",
    "    "
   ]
  },
  {
   "cell_type": "code",
   "execution_count": null,
   "id": "58369ac6-a661-4b19-b021-bbd3f7c5222d",
   "metadata": {},
   "outputs": [],
   "source": []
  },
  {
   "cell_type": "code",
   "execution_count": null,
   "id": "e1ce253a-87b1-4214-a5f5-744d66234ac2",
   "metadata": {},
   "outputs": [],
   "source": []
  }
 ],
 "metadata": {
  "kernelspec": {
   "display_name": "Python 3",
   "language": "python",
   "name": "python3"
  },
  "language_info": {
   "codemirror_mode": {
    "name": "ipython",
    "version": 3
   },
   "file_extension": ".py",
   "mimetype": "text/x-python",
   "name": "python",
   "nbconvert_exporter": "python",
   "pygments_lexer": "ipython3",
   "version": "3.9.5"
  }
 },
 "nbformat": 4,
 "nbformat_minor": 5
}
